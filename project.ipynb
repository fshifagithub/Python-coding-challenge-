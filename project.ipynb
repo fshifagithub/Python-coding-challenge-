{
 "cells": [
  {
   "cell_type": "code",
   "execution_count": 4,
   "id": "c4457ddf-3610-4986-938e-160fb879277d",
   "metadata": {},
   "outputs": [
    {
     "name": "stdout",
     "output_type": "stream",
     "text": [
      "Group counts successfully saved to group_counts.txt.\n"
     ]
    }
   ],
   "source": [
    "import pandas as pd\n",
    "import re\n",
    "from collections import Counter\n",
    "\n",
    "def extract_groups(file_path, column_name, target_string, output_file=\"group_counts.txt\"):\n",
    "    \n",
    "    try:\n",
    "      \n",
    "        df = pd.read_csv(file_path, encoding='utf-8')\n",
    "\n",
    "       \n",
    "        if column_name not in df.columns:\n",
    "            raise ValueError(f\"Column '{column_name}' not found in the file.\")\n",
    "\n",
    "        \n",
    "        group_pattern = rf\"{target_string} : \\[code\\]<I>(.*?)</I>\\[/code\\]\"\n",
    "        groups = []\n",
    "\n",
    "        for row in df[column_name]:\n",
    "            if isinstance(row, str): \n",
    "                match = re.search(group_pattern, row)\n",
    "                if match:\n",
    "                    group_list = match.group(1).split(\",\")  \n",
    "                    groups.extend([group.strip() for group in group_list]) \n",
    "\n",
    "        \n",
    "        group_counts = Counter(groups)\n",
    "\n",
    "       \n",
    "        group_data = pd.DataFrame(group_counts.items(), columns=['Group_name', 'Number of occurrences'])\n",
    "        group_data = group_data.sort_values(by='Number of occurrences', ascending=False)  \n",
    "\n",
    "        \n",
    "        with open(output_file, \"w\") as f:\n",
    "            f.write(group_data.to_string(index=False))  \n",
    "\n",
    "        print(f\"Group counts successfully saved to {output_file}.\")\n",
    "\n",
    "    except Exception as e:\n",
    "        print(f\"An error occurred: {e}\")\n",
    "\n",
    "\n",
    "if __name__ == \"__main__\":\n",
    "    \n",
    "    input_file = \"coding challenge.csv\"  \n",
    "    column_name = \"Additional comments\" \n",
    "    target_string = \"Groups\"  \n",
    "    output_file = \"group_counts.txt\"\n",
    "\n",
    "    \n",
    "    extract_groups(input_file, column_name, target_string, output_file)\n"
   ]
  },
  {
   "cell_type": "code",
   "execution_count": null,
   "id": "5072db10-6b4d-4356-adf4-e16233ba5169",
   "metadata": {},
   "outputs": [],
   "source": []
  }
 ],
 "metadata": {
  "kernelspec": {
   "display_name": "Python 3 (ipykernel)",
   "language": "python",
   "name": "python3"
  },
  "language_info": {
   "codemirror_mode": {
    "name": "ipython",
    "version": 3
   },
   "file_extension": ".py",
   "mimetype": "text/x-python",
   "name": "python",
   "nbconvert_exporter": "python",
   "pygments_lexer": "ipython3",
   "version": "3.12.3"
  }
 },
 "nbformat": 4,
 "nbformat_minor": 5
}
